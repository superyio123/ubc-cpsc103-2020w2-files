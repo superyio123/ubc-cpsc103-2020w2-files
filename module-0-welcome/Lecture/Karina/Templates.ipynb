{
 "cells": [
  {
   "cell_type": "code",
   "execution_count": null,
   "metadata": {},
   "outputs": [],
   "source": [
    "from cs103 import *\n",
    "from typing import NamedTuple, List\n",
    "import csv"
   ]
  },
  {
   "cell_type": "markdown",
   "metadata": {},
   "source": [
    "# Simple Atomic Data\n"
   ]
  },
  {
   "cell_type": "code",
   "execution_count": null,
   "metadata": {},
   "outputs": [],
   "source": [
    "XXX = type\n",
    "# interp. ....\n",
    "\n",
    "X0 = ...\n",
    "\n",
    "@typecheck\n",
    "def fun_for_XXX(x: XXX) -> ...:\n",
    "    return ...(x)"
   ]
  },
  {
   "cell_type": "markdown",
   "metadata": {},
   "source": [
    "# Interval Example"
   ]
  },
  {
   "cell_type": "code",
   "execution_count": null,
   "metadata": {},
   "outputs": [],
   "source": [
    "Name = int  # in range ...\n",
    "# interp. ...\n",
    "\n",
    "X0 = ...\n",
    "\n",
    "@typecheck\n",
    "def fun_for_XXX(x: XXX) -> ...:\n",
    "    return ...(x)"
   ]
  },
  {
   "cell_type": "markdown",
   "metadata": {},
   "source": [
    "# Enumaration"
   ]
  },
  {
   "cell_type": "code",
   "execution_count": null,
   "metadata": {},
   "outputs": [],
   "source": [
    "from enum import Enum\n",
    "\n",
    "XXX = Enum('XXX', ['A', 'B'])\n",
    "# interp. ...\n",
    "\n",
    "# examples are redundant for enumerations \n",
    "\n",
    "# template based on Enumeration\n",
    "@typecheck\n",
    "def fn_for_XXX(x: XXX) -> ...:\n",
    "    if x == XXXX.A:\n",
    "        return ...\n",
    "    elif x == XXX.B:\n",
    "        return ..."
   ]
  },
  {
   "cell_type": "markdown",
   "metadata": {},
   "source": [
    "# Optional"
   ]
  },
  {
   "cell_type": "code",
   "execution_count": null,
   "metadata": {},
   "outputs": [],
   "source": [
    "from typing import Optional\n",
    "\n",
    "XXX = Optional[type]\n",
    "# interp. ...\n",
    "\n",
    "X0 = ...\n",
    "\n",
    "# template based on Optional\n",
    "@typecheck\n",
    "def fn_for_XXX(x: XXX) -> ...:\n",
    "    if x is None:\n",
    "        return ...\n",
    "    else:\n",
    "        return ...(x)"
   ]
  },
  {
   "cell_type": "markdown",
   "metadata": {},
   "source": [
    "# Compound"
   ]
  },
  {
   "cell_type": "code",
   "execution_count": null,
   "metadata": {},
   "outputs": [],
   "source": [
    "from typing import NamedTuple\n",
    "\n",
    "XXX = NamedTuple('XXX', [('a', type),\n",
    "                         ('b', type)])\n",
    "# interp. ...\n",
    "\n",
    "X0 = XXX(...)\n",
    "\n",
    "# template based on Compound\n",
    "@typecheck\n",
    "def fn_for_XXX(x: XXX) -> ...: \n",
    "    return ...(x.a,\n",
    "               x.b)"
   ]
  },
  {
   "cell_type": "markdown",
   "metadata": {},
   "source": [
    "# Arbitrary-Sized"
   ]
  },
  {
   "cell_type": "code",
   "execution_count": null,
   "metadata": {},
   "outputs": [],
   "source": [
    "from typing import List\n",
    "\n",
    "# List[type]\n",
    "# interp. ...\n",
    "\n",
    "L0 = []\n",
    "L1 = [...]\n",
    "\n",
    "# template based on arbitrary-sized\n",
    "@typecheck\n",
    "def fn_for_lox(lox: List[X]) -> ...:\n",
    "    # description of the accumulator\n",
    "    acc = ...   # type: ...\n",
    "\n",
    "    for x in lox:\n",
    "        acc = ...(x, acc)\n",
    "\n",
    "    return ...(acc)"
   ]
  },
  {
   "cell_type": "markdown",
   "metadata": {},
   "source": [
    "# Analysis Program"
   ]
  },
  {
   "cell_type": "code",
   "execution_count": null,
   "metadata": {},
   "outputs": [],
   "source": [
    "##################\n",
    "# Data Definitions\n",
    "\n",
    "\n",
    "Consumed = ...\n",
    "\n",
    "# List[Consumed]\n",
    "# interp. a list of Consumed\n",
    "\n",
    "LOC0 = []\n",
    "\n",
    "@typecheck\n",
    "def fn_for_loc(loc: List[Consumed]) -> ...:\n",
    "    ... # choose which template body to use for List[Consumed]"
   ]
  },
  {
   "cell_type": "code",
   "execution_count": null,
   "metadata": {},
   "outputs": [],
   "source": [
    "###########\n",
    "# Functions\n",
    "\n",
    "\n",
    "### Main\n",
    "@typecheck\n",
    "def main(filename: str) -> ...:\n",
    "    \"\"\"\n",
    "    Reads the file from given filename, analyzes the data,\n",
    "    returns the result\n",
    "    \"\"\"\n",
    "    # Template from HtDAP, based on composition\n",
    "    return analyze(read(filename))\n",
    "    \n",
    "    \n",
    "### Read\n",
    "@typecheck\n",
    "def read(filename: str) -> List[Consumed]:\n",
    "    \"\"\"\n",
    "    reads information from the specified file and returns ... \n",
    "    \"\"\"\n",
    "    # return [] #stub\n",
    "    # Template from HtDAP\n",
    "    # loc contains the result so far\n",
    "    loc = [] # type: List[Consumed]\n",
    "    \n",
    "    with open(filename) as csvfile:\n",
    "        reader = csv.reader(csvfile) \n",
    "        next(reader) # skip header line\n",
    "        \n",
    "        for row in reader:\n",
    "            # you may not need to store all the rows, and you may need \n",
    "            # to convert some of the strings to other types\n",
    "            c = Consumed(row[0], ... ,row[n])\n",
    "            loc.append(c)\n",
    "    return loc\n",
    "\n",
    "\n",
    "### Analyze\n",
    "@typecheck\n",
    "def analyze(loc: List[Consumed]) -> Produced: # You will often want to rename this function!\n",
    "    \"\"\"\n",
    "    ...\n",
    "    \"\"\"\n",
    "    return ...\n",
    "    \n",
    "    \n",
    "### Tests\n",
    "# Examples and tests for main\n",
    "start_testing()\n",
    "expect(main(...), ...) \n",
    "summary() \n",
    "\n",
    "# Examples and tests for read\n",
    "start_testing()\n",
    "expect(read(...), ...) \n",
    "summary() \n",
    "\n",
    "# Examples and tests for analyze\n",
    "start_testing()\n",
    "expect(analyze(...), ...) \n",
    "summary() \n"
   ]
  },
  {
   "cell_type": "markdown",
   "metadata": {},
   "source": [
    "# Visualization"
   ]
  },
  {
   "cell_type": "code",
   "execution_count": null,
   "metadata": {},
   "outputs": [],
   "source": [
    "pyplot.plot(x_data: List[float], y_data: List[float]) # plots the given data \n",
    "pyplot.xlabel(label: str) # sets the label for the x-axis \n",
    "pyplot.ylabel(label: str) # sets the label for the y-axis \n",
    "pyplot.title(title: str) # sets the plot’s title"
   ]
  }
 ],
 "metadata": {
  "kernelspec": {
   "display_name": "Python 3",
   "language": "python",
   "name": "python3"
  },
  "language_info": {
   "codemirror_mode": {
    "name": "ipython",
    "version": 3
   },
   "file_extension": ".py",
   "mimetype": "text/x-python",
   "name": "python",
   "nbconvert_exporter": "python",
   "pygments_lexer": "ipython3",
   "version": "3.8.3"
  }
 },
 "nbformat": 4,
 "nbformat_minor": 4
}
