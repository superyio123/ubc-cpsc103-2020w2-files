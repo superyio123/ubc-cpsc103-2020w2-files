{
 "cells": [
  {
   "cell_type": "markdown",
   "metadata": {},
   "source": [
    "## Problem\n",
    "\n",
    "Design a function called less_than_five that takes a string and determines whether its length is less than 5. Follow the HtDF recipe."
   ]
  },
  {
   "cell_type": "code",
   "execution_count": null,
   "metadata": {
    "collapsed": false
   },
   "outputs": [],
   "source": [
    "from cs103 import *\n",
    "\n",
    "@typecheck\n",
    "def less_than_five(s: str) -> bool:\n",
    "    \"\"\"\n",
    "    return True if s has length less than 5\n",
    "    \"\"\"\n",
    "    \n",
    "    # return False  #stub\n",
    "    # return ...(s)  #template\n",
    "    \n",
    "    return len(s) < 5\n",
    "\n",
    "# start testing\n",
    "start_testing()\n",
    "\n",
    "expect(less_than_five(''), True)\n",
    "expect(less_than_five('cats'), True)\n",
    "expect(less_than_five('hello'), False)\n",
    "expect(less_than_five('helloworld'), False)\n",
    "\n",
    "# show testing summary\n",
    "summary()"
   ]
  }
 ],
 "metadata": {
  "kernelspec": {
   "display_name": "Python 3",
   "language": "python",
   "name": "python3"
  },
  "language_info": {
   "codemirror_mode": {
    "name": "ipython",
    "version": 3
   },
   "file_extension": ".py",
   "mimetype": "text/x-python",
   "name": "python",
   "nbconvert_exporter": "python",
   "pygments_lexer": "ipython3",
   "version": "3.5.2"
  }
 },
 "nbformat": 4,
 "nbformat_minor": 2
}
