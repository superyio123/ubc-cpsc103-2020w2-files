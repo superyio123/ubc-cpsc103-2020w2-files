{
 "cells": [
  {
   "cell_type": "markdown",
   "metadata": {},
   "source": [
    "## Problem\n",
    "\n",
    "Design a function that takes a string and returns 3 repetitions of the\n",
    "given string, but only if the given string is at least 3 characters long.\n",
    "Otherwise, the function should return `None`.\n",
    "\n",
    "For example, if the function gets the string `\"hello\"`, it should return \n",
    "`\"hellohellohello\"`. But if the function takes the string `\"a\"`, it should \n",
    "return `None`.\n",
    "\n",
    "Be sure to follow all steps of the HtDF recipe. \n",
    "\n",
    "NOTE: We use `Optional[...]` to describe a value that may come back `None`.\n",
    "(`Optional` in the sense that it could be missing.) So, `Optional[int]`\n",
    "could either be an `int` like `0`, `5`, or `-2` or it could be `None`, while\n",
    "`Optional[float]` could be a `float` like `0.0`, `3.14`, or `-1.11` or it could be\n",
    "None. We haven't talked yet about how to design types like this. Fortunately,\n",
    "if the only thing we're doing with a type like `Optional[int]` that has no special\n",
    "name is returning a value of that type, we're allowed to simply use it directly as\n",
    "the type name."
   ]
  },
  {
   "cell_type": "code",
   "execution_count": null,
   "metadata": {},
   "outputs": [],
   "source": [
    "from cs103 import *\n",
    "from typing import Optional\n",
    "\n",
    "@typecheck\n",
    "def repeat_string(s: str) -> Optional[str]:\n",
    "    \"\"\"\n",
    "    return 3 repetitions of s if len(s) >= 3, otherwise None\n",
    "    \"\"\"\n",
    "    # return None  #stub\n",
    "    # return ...(s)  # template based on Atomic Non-Distinct\n",
    "    if len(s) >= 3:\n",
    "        return s * 3\n",
    "    else:\n",
    "        return None\n",
    "    \n",
    "# Start testing\n",
    "start_testing()\n",
    "\n",
    "expect(repeat_string(\"a\"), None)\n",
    "expect(repeat_string(\"hello\"), \"hellohellohello\")\n",
    "expect(repeat_string(\"Bye\"), \"ByeByeBye\")\n",
    "\n",
    "# Show testing summary\n",
    "summary()"
   ]
  }
 ],
 "metadata": {
  "kernelspec": {
   "display_name": "Python 3",
   "language": "python",
   "name": "python3"
  },
  "language_info": {
   "codemirror_mode": {
    "name": "ipython",
    "version": 3
   },
   "file_extension": ".py",
   "mimetype": "text/x-python",
   "name": "python",
   "nbconvert_exporter": "python",
   "pygments_lexer": "ipython3",
   "version": "3.7.3"
  }
 },
 "nbformat": 4,
 "nbformat_minor": 2
}
