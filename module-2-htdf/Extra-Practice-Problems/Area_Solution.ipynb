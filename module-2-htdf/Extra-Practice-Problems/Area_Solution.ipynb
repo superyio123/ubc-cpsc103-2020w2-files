{
 "cells": [
  {
   "cell_type": "markdown",
   "metadata": {},
   "source": [
    "## Problem:\n",
    "\n",
    "Design a function that returns the area of a given image. You may use the\n",
    "given image variables for testing purposes. For this problem, you should \n",
    "assume that the area of an image is always the width of the image multiplied\n",
    "by the height of the image. \n",
    "\n",
    "Be sure to follow all steps of the HtDF recipe."
   ]
  },
  {
   "cell_type": "code",
   "execution_count": null,
   "metadata": {
    "collapsed": false
   },
   "outputs": [],
   "source": [
    "from cs103 import *\n",
    "\n",
    "i1 = rectangle(10, 20, \"outline\", \"blue\")\n",
    "i2 = circle(55, \"solid\", \"gold\")\n",
    "\n",
    "@typecheck\n",
    "def area(i: Image) -> float:\n",
    "    \"\"\"\n",
    "    return the area of the given image\n",
    "    ASSUME: area is equal to width X height\n",
    "    \"\"\"\n",
    "    # return 0  #stub\n",
    "    # return ...(i)  #template based on Atomic Non-Distinct\n",
    "    return image_width(i) * image_height(i)\n",
    "\n",
    "# Start testing\n",
    "start_testing()\n",
    "\n",
    "expect(area(i1), image_width(i1) * image_height(i1))\n",
    "expect(area(i2), image_width(i2) * image_height(i2))\n",
    "\n",
    "# Show testing summary\n",
    "summary()   \n"
   ]
  }
 ],
 "metadata": {
  "kernelspec": {
   "display_name": "Python 3",
   "language": "python",
   "name": "python3"
  },
  "language_info": {
   "codemirror_mode": {
    "name": "ipython",
    "version": 3
   },
   "file_extension": ".py",
   "mimetype": "text/x-python",
   "name": "python",
   "nbconvert_exporter": "python",
   "pygments_lexer": "ipython3",
   "version": "3.5.2"
  }
 },
 "nbformat": 4,
 "nbformat_minor": 2
}
