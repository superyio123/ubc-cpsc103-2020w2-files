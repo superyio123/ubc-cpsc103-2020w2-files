{
 "cells": [
  {
   "cell_type": "markdown",
   "metadata": {},
   "source": [
    "## Problem\n",
    "\n",
    "In interactive games it is often useful to be able to determine the distance between two points on the screen. We can describe those points using Cartesian coordinates as four numbers: (x1, y1) and (x2, y2).\n",
    "\n",
    "The formula for the distance between those points is: d = sqrt[(x1 - x2)^2 + (y1 - y2)^2]\n",
    "\n",
    "Use the How to Design Functions (HtDF) recipe to design a function called distance that takes four numbers representing two points and returns the distance between the two points.\n",
    "\n",
    "se distance(3.0,0,0,4.0), which should produce 5.0, as your first example/test. Once your function works with that test, try distance(1.0,0,0,1.0) which should produce sqrt(2)."
   ]
  },
  {
   "cell_type": "code",
   "execution_count": null,
   "metadata": {
    "collapsed": false
   },
   "outputs": [],
   "source": [
    "from cs103 import *\n",
    "\n",
    "@typecheck\n",
    "def distance(x1: float, y1: float, x2: float, y2: float) -> float:\n",
    "    \"\"\"\n",
    "    return the distance between the points (x1, y1) and (x2, y2)\n",
    "    \"\"\"\n",
    "    \n",
    "    # return 0  #stub\n",
    "    # return ...(x1, y1, x2, y2)  #template\n",
    "    \n",
    "    return ((x1 - x2)**2 + (y1 - y2)**2)**(1/2)\n",
    "\n",
    "# start testing\n",
    "start_testing()\n",
    "\n",
    "expect(distance(3.0, 0, 0, 4.0), 5.0)\n",
    "expect(distance(1.0, 0, 0, 1.0), 2**(1/2))\n",
    "\n",
    "# show testing summary\n",
    "summary()"
   ]
  }
 ],
 "metadata": {
  "kernelspec": {
   "display_name": "Python 3",
   "language": "python",
   "name": "python3"
  },
  "language_info": {
   "codemirror_mode": {
    "name": "ipython",
    "version": 3
   },
   "file_extension": ".py",
   "mimetype": "text/x-python",
   "name": "python",
   "nbconvert_exporter": "python",
   "pygments_lexer": "ipython3",
   "version": "3.5.2"
  }
 },
 "nbformat": 4,
 "nbformat_minor": 2
}
