{
 "cells": [
  {
   "cell_type": "markdown",
   "metadata": {},
   "source": [
    "## Problem\n",
    "\n",
    "Design a function that returns the area of a given image. You may use the\n",
    "given image variables for testing purposes. For this problem, you should \n",
    "assume that the area of an image is always the width of the image multiplied\n",
    "by the height of the image. \n",
    "\n",
    "Be sure to follow all steps of the HtDF recipe.\n"
   ]
  },
  {
   "cell_type": "code",
   "execution_count": null,
   "metadata": {
    "collapsed": true
   },
   "outputs": [],
   "source": [
    "from cs103 import *\n",
    "\n",
    "# you may want to use these images for your examples\n",
    "i1 = rectangle(10, 20, \"outline\", \"blue\")\n",
    "i2 = circle(55, \"solid\", \"gold\")\n",
    "\n",
    "# your solution goes here\n"
   ]
  }
 ],
 "metadata": {
  "kernelspec": {
   "display_name": "Python 3",
   "language": "python",
   "name": "python3"
  },
  "language_info": {
   "codemirror_mode": {
    "name": "ipython",
    "version": 3
   },
   "file_extension": ".py",
   "mimetype": "text/x-python",
   "name": "python",
   "nbconvert_exporter": "python",
   "pygments_lexer": "ipython3",
   "version": "3.5.2"
  }
 },
 "nbformat": 4,
 "nbformat_minor": 2
}
