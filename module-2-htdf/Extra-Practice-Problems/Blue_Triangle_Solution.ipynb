{
 "cells": [
  {
   "cell_type": "markdown",
   "metadata": {},
   "source": [
    "## Problem\n",
    "\n",
    "Design a function called blue_triangle that returns a blue triangle of a given width and height."
   ]
  },
  {
   "cell_type": "code",
   "execution_count": null,
   "metadata": {
    "collapsed": false
   },
   "outputs": [],
   "source": [
    "from cs103 import *\n",
    "\n",
    "@typecheck\n",
    "def blue_triangle(w: int, h: int) -> Image:\n",
    "    \"\"\"\n",
    "    return a blue triangle of the given width and height\n",
    "    \"\"\"\n",
    "    \n",
    "    # return triangle(1, 1 'solid', 'blue')   #stub\n",
    "    # return ...(w, h)  # template\n",
    "    \n",
    "    return triangle(w, h, 'solid', 'blue')\n",
    "\n",
    "# start testing\n",
    "start_testing()\n",
    "\n",
    "expect(blue_triangle(2, 3), triangle(2, 3, 'solid', 'blue'))\n",
    "expect(blue_triangle(20, 20), triangle(20, 20, 'solid', 'blue'))\n",
    "expect(blue_triangle(15, 15), triangle(15, 15, 'solid', 'blue'))\n",
    "\n",
    "# show testing summary\n",
    "summary()"
   ]
  }
 ],
 "metadata": {
  "kernelspec": {
   "display_name": "Python 3",
   "language": "python",
   "name": "python3"
  },
  "language_info": {
   "codemirror_mode": {
    "name": "ipython",
    "version": 3
   },
   "file_extension": ".py",
   "mimetype": "text/x-python",
   "name": "python",
   "nbconvert_exporter": "python",
   "pygments_lexer": "ipython3",
   "version": "3.5.2"
  }
 },
 "nbformat": 4,
 "nbformat_minor": 2
}
