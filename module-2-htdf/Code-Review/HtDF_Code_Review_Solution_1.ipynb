{
 "cells": [
  {
   "cell_type": "code",
   "execution_count": null,
   "metadata": {},
   "outputs": [],
   "source": [
    "from cs103 import * \n",
    "\n",
    "def discount(price: int) -> str:\n",
    "    \"\"\"\n",
    "    applies a 10% discount to the price\n",
    "    \"\"\"\n",
    "    return int(round(price*(0.9)))\n",
    "\n",
    "#Begin testing\n",
    "start_testing()\n",
    "\n",
    "expect(discount(150), int(round(150 * 0.9)))\n",
    "expect(discount(235), int(round(235 * 0.9)))\n",
    "expect(discount(76), int(round(76 * 0.9)))\n",
    "\n",
    "#Show testing summary\n",
    "summary()\n",
    "\n",
    "discount(122)"
   ]
  }
 ],
 "metadata": {
  "kernelspec": {
   "display_name": "Python 3",
   "language": "python",
   "name": "python3"
  },
  "language_info": {
   "codemirror_mode": {
    "name": "ipython",
    "version": 3
   },
   "file_extension": ".py",
   "mimetype": "text/x-python",
   "name": "python",
   "nbconvert_exporter": "python",
   "pygments_lexer": "ipython3",
   "version": "3.6.6"
  }
 },
 "nbformat": 4,
 "nbformat_minor": 2
}
