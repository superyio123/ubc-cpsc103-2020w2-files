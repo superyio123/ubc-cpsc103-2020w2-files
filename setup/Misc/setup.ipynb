{
 "cells": [
  {
   "cell_type": "markdown",
   "metadata": {},
   "source": [
    "# Setup\n",
    "\n",
    "We have some course-specific functionality that we need to add to your Jupyter environment. You need to **run the code in the next cell** in order to set up your Jupyter environment for the course. **You should only ever need to do this once** and then you will be able to use our course-specific functionality for the duration of the course in any notebook that you create.\n",
    "\n",
    "Remember, to run a code cell like this one, click on the code cell and then click on the run button at the top. You should expect this code cell to take a few moments to run. It will produce some intermediate output that you can ignore. Look for the checkmark or X to indicate success (checkmark) or failure (X). When it finishes successfully, it should produce a message telling you that everything went well. Then, you're ready to program in Python in CPSC 103!"
   ]
  },
  {
   "cell_type": "code",
   "execution_count": null,
   "metadata": {
    "scrolled": true
   },
   "outputs": [],
   "source": [
    "print(\"Starting setup...\")\n",
    "print(\"\\x1b[33m\" + \"You may see various messages during setup; this is normal!\")\n",
    "print(\"Look for \\x1b[36m\\u2713\\x1b[33m or \\x1b[31m\\u2717\\x1b[33m to indicate success or failure.\")\n",
    "print()\n",
    "\n",
    "%matplotlib inline\n",
    "\n",
    "try:\n",
    "    %pip install --user python-dotenv --no-warn-script-location\n",
    "    import dotenv\n",
    "    from cs103 import *\n",
    "    custom_init()\n",
    "    print(\"\\x1b[36m\\u2713 Setup succeeded! :)\")\n",
    "except Exception as e:\n",
    "    print(\"\\x1b[31m\\u2717 Unexpected error! Please contact course staff\\n\" +\n",
    "         \"Please include the entire text above and below in your message.\")\n",
    "    raise"
   ]
  }
 ],
 "metadata": {
  "kernelspec": {
   "display_name": "Python 3",
   "language": "python",
   "name": "python3"
  },
  "language_info": {
   "codemirror_mode": {
    "name": "ipython",
    "version": 3
   },
   "file_extension": ".py",
   "mimetype": "text/x-python",
   "name": "python",
   "nbconvert_exporter": "python",
   "pygments_lexer": "ipython3",
   "version": "3.7.6"
  }
 },
 "nbformat": 4,
 "nbformat_minor": 2
}
