{
 "cells": [
  {
   "cell_type": "markdown",
   "metadata": {},
   "source": [
    "**NOTE:** Unlike our usual tutorial, there isn't much by way of real \"solutions\" here, but we've worked through the sheet. Note that just looking at this solution (or **any** solution in this class!) won't lead to much learning. Instead, struggle with the problems yourself for a while, discuss them with a course staff member or (where the collaboration policy allows) a peer, and then compare the solution to your own, critiquing both as you go!"
   ]
  },
  {
   "cell_type": "markdown",
   "metadata": {},
   "source": [
    "# Getting Started with Python and Jupyter\n",
    "\n",
    "In CPSC 103, we will be writing code in the Python programming language using the Jupyter notebook software.\n",
    "\n",
    "This is a quick guide to Jupyter and an introduction to Python. We expect that this may be your first exposure to working with a programming language. Don't worry if there are parts of this tutorial that don't make sense to you.  Programming is a skill that is possibly different from anything you've done before, so give yourself some time to get comfortable with it! And, ask for help and thoughts from the course staff: in person in lecture or tutorial and online on our discussion board!"
   ]
  },
  {
   "cell_type": "code",
   "execution_count": 1,
   "metadata": {},
   "outputs": [],
   "source": [
    "# This is a Python cell (code block) in Jupyter.\n",
    "# \n",
    "# Notice that all the lines in this cell start with a number sign ('#')\n",
    "# and are therefore read by Python as \"comments\": text that is intended\n",
    "# for human readers rather than something that we want Python to process.\n",
    "\n",
    "# To write code, simply type in the box. To run the code, press\n",
    "# the run button in the toolbar above (with the symbol that looks like ►|),\n",
    "# or use the keyboard shortcut: Shift-Enter (meaning hold down the Shift key\n",
    "# and while it's down, type Enter or Return).\n",
    "#\n",
    "# You can add more cells to your notebook using the Insert menu above.\n",
    "\n",
    "# Now:\n",
    "# 1) click your cursor into this cell and then\n",
    "# 2) click the run button (►|) above.\n",
    "#\n",
    "# Again, since these are all comments (for human readers, not Python),\n",
    "# the only thing that happens is that the next cell in the notebook\n",
    "# is highlighted."
   ]
  },
  {
   "cell_type": "code",
   "execution_count": 2,
   "metadata": {},
   "outputs": [
    {
     "data": {
      "text/plain": [
       "6"
      ]
     },
     "execution_count": 2,
     "metadata": {},
     "output_type": "execute_result"
    }
   ],
   "source": [
    "# Compare the cell above to this Python cell that has a line at the end\n",
    "# that does not start with '#'.  Notice that when you run this cell\n",
    "# you see a line generated just below it that shows the output produced \n",
    "# by this cell. Try it! Be sure to click in this cell before you click the \n",
    "# run button in the toolbar above.\n",
    "\n",
    "# What do you think Python will do with code like 2 + 4?\n",
    "2 + 4"
   ]
  },
  {
   "cell_type": "markdown",
   "metadata": {},
   "source": [
    "## Expressions\n",
    "\n",
    "Expressions are pieces of code that represent a value. This can be simple data, or complex combinations.  You saw an example on the last line of the previous cell.  The expression 2 + 4 becomes (or *evaluates to*) the value 6."
   ]
  },
  {
   "cell_type": "code",
   "execution_count": 3,
   "metadata": {},
   "outputs": [
    {
     "data": {
      "text/plain": [
       "'Hello Hello Hello '"
      ]
     },
     "execution_count": 3,
     "metadata": {},
     "output_type": "execute_result"
    }
   ],
   "source": [
    "# Python has different kinds of values that it can work with:\n",
    "\n",
    "# - numbers, like 3, -5, 2.984241\n",
    "\n",
    "# - booleans, this is a special kind of data that has only two possible values: True or False\n",
    "\n",
    "# - strings, which means text like 'Hello Python', \"Chris\", '5.6' \n",
    "#   - the text inside the quotation marks is the content of the string\n",
    "#   - notice that you can use single or double quotes to represent strings\n",
    "#   - also notice that last one is tricky: '5.6' is a string whereas 5.6 is a number!\n",
    "\n",
    "# The following are all expressions:\n",
    "\n",
    "# SOLUTION: We've annotated what each expression evaluates to.\n",
    "\n",
    "1                               # => 1\n",
    "-2.4                            # => -2.4\n",
    "\n",
    "True                            # => True\n",
    "False                           # => False\n",
    "\n",
    "\"Hello Python!\"                 # => 'Hello Python!' (or \"Hello Python!\"; the two are equivalent)\n",
    "\n",
    "\n",
    "# For each kind of data, Python provides operations that can be performed on values of that type.  \n",
    "# Here are some examples:\n",
    "\n",
    "1 + 1                           # => 2\n",
    "\"Hello\" + \" \" + \"Python!\"       # => 'Hello Python!'\n",
    "2.3 * 5                         # => 11.5\n",
    "not True                        # => False\n",
    "\"Hello \" * 3                    # => 'Hello Hello Hello '\n",
    "\n",
    "# When you run a Python cell, Jupyter will display the value of only the last expression \n",
    "# in that cell.  In this case, just 'Hello Hello Hello '\n",
    "\n",
    "# Try commenting out the last expression by putting a number sign ('#') \n",
    "# at the start of its line and running the code cell gain. What do you expect Jupyter \n",
    "# to display? Can you explain why it displayed what it did?\"\n",
    "\n",
    "# Now, copy and paste each expression above (one at a time) to the end of this \n",
    "# cell and run the cell to see what the expression produces!"
   ]
  },
  {
   "cell_type": "markdown",
   "metadata": {},
   "source": [
    "### _Try it yourself_\n",
    "\n",
    "In the cell below, type a few expressions. Here are some suggestions:\n",
    "\n",
    "- Write your name as a string expression\n",
    "- Write an expression using numbers and mathematical operators like +, -, * and /\n",
    "\n",
    "Run the cell each time you add a new expression, so you can always see the value of the last expression in the cell. \n",
    "\n",
    "Don't be afraid to experiment!  You can't break anything - really :-)"
   ]
  },
  {
   "cell_type": "code",
   "execution_count": 4,
   "metadata": {},
   "outputs": [
    {
     "data": {
      "text/plain": [
       "9.877551020408163"
      ]
     },
     "execution_count": 4,
     "metadata": {},
     "output_type": "execute_result"
    }
   ],
   "source": [
    "# Write your expressions here:\n",
    "\n",
    "\"Your Name\"   # OK, OK. Any of \"Meghan Allen\", \"Paul Carter\", \"Steve Wolfman\", or several other course staff! :)\n",
    "\n",
    "22/7 * 22/7"
   ]
  },
  {
   "cell_type": "markdown",
   "metadata": {},
   "source": [
    "As you work through the rest of this document, remember that you'll need to run each code cell to make it work.\n",
    "\n",
    "Everyone forgets to run cells sometimes. When that happens, running later cells may produce errors or surprising values. When that happens, the first thing to try is to go back up and re-run the cells. That's where that keyboard shortcut to run (Shift-Enter) comes in very handy to re-run cells quickly!"
   ]
  },
  {
   "cell_type": "markdown",
   "metadata": {},
   "source": [
    "## Variables"
   ]
  },
  {
   "cell_type": "markdown",
   "metadata": {},
   "source": [
    "A variable has a name and stores a value. For example, in the code below, we've defined a variable named `course_name` and we're using that variable to store the value `\"CPSC 103: Introduction to Systematic Program Design\"`"
   ]
  },
  {
   "cell_type": "code",
   "execution_count": 5,
   "metadata": {},
   "outputs": [],
   "source": [
    "course_name = \"CPSC 103: Introduction to Systematic Program Design\""
   ]
  },
  {
   "cell_type": "markdown",
   "metadata": {},
   "source": [
    "Notice that running that cell doesn't display anything. Rather than evaluating to `'CPSC 103: Introduction to Systematic Program Design'`, running this cell stored a value in the variable `course_name`.\n",
    "\n",
    "Once we run this code, we can access the value that is stored in `course_name`.\n",
    "\n",
    "What do you think running the following cell will produce? Make a prediction and then run it to see what actually happens!"
   ]
  },
  {
   "cell_type": "code",
   "execution_count": 6,
   "metadata": {},
   "outputs": [
    {
     "data": {
      "text/plain": [
       "'CPSC 103: Introduction to Systematic Program Design'"
      ]
     },
     "execution_count": 6,
     "metadata": {},
     "output_type": "execute_result"
    }
   ],
   "source": [
    "course_name"
   ]
  },
  {
   "cell_type": "markdown",
   "metadata": {},
   "source": [
    "We can also change the value that is stored in the variable named `course_name`."
   ]
  },
  {
   "cell_type": "code",
   "execution_count": 7,
   "metadata": {},
   "outputs": [],
   "source": [
    "course_name = \"CPSC 103\""
   ]
  },
  {
   "cell_type": "markdown",
   "metadata": {},
   "source": [
    "If we access the value that is stored in `course_name` now, we can see that it has been updated."
   ]
  },
  {
   "cell_type": "code",
   "execution_count": 8,
   "metadata": {},
   "outputs": [
    {
     "data": {
      "text/plain": [
       "'CPSC 103'"
      ]
     },
     "execution_count": 8,
     "metadata": {},
     "output_type": "execute_result"
    }
   ],
   "source": [
    "course_name"
   ]
  },
  {
   "cell_type": "markdown",
   "metadata": {},
   "source": [
    "### _Try it yourself_\n",
    "\n",
    "Try defining some variables, assigning their values, accessing their values, and changing their values. Try writing expressions that include variables."
   ]
  },
  {
   "cell_type": "code",
   "execution_count": 9,
   "metadata": {},
   "outputs": [
    {
     "data": {
      "text/plain": [
       "51"
      ]
     },
     "execution_count": 9,
     "metadata": {},
     "output_type": "execute_result"
    }
   ],
   "source": [
    "# Write your expressions here:\n",
    "\n",
    "\n",
    "# Hmm.. let's see. It's 2018 and Steve's daughter just watched the Lion King for the first time.\n",
    "# And hey.. there's another one coming!\n",
    "\n",
    "lion_king_year = 1994\n",
    "new_lion_king_year = 2019\n",
    "lk_delay = new_lion_king_year - lion_king_year\n",
    "\n",
    "new_lion_king_year = 2020\n",
    "longer_lk_delay = new_lion_king_year - lion_king_year\n",
    "\n",
    "lk_delay + longer_lk_delay"
   ]
  },
  {
   "cell_type": "markdown",
   "metadata": {},
   "source": [
    "## Side note on assignment statements\n",
    "\n",
    "Remember that no output was displayed when the code cell that contained this code `course_name = \"CPSC 103: Introduction to Systematic Program Design\"` was run. Some statements, including assignment statements, don't produce a value the way expressions do. When the last line of a cell is a statement that produces no value at all (or the special value `None` that we'll learn more about later) Jupyter displays no output.\n",
    "\n",
    "As another example, try running the following code block that just has `None` in it and notice that no line of output is generated."
   ]
  },
  {
   "cell_type": "code",
   "execution_count": 10,
   "metadata": {},
   "outputs": [],
   "source": [
    "None"
   ]
  },
  {
   "cell_type": "markdown",
   "metadata": {},
   "source": [
    "You should have seen that nothing -- not even `None` -- was displayed!"
   ]
  },
  {
   "cell_type": "markdown",
   "metadata": {},
   "source": [
    "## Functions\n",
    "\n",
    "Functions take in one or more expressions as input, perform some operation(s), and return a value when called. A function is a bit like a machine that takes in raw materials and produces a product. (Like my toaster oven takes in bread and produces toast.)\n",
    "\n",
    "Python has a variety of built-in functions. We will be using these throughout the course. We will also learn how to design our own functions when there is no built-in function that performs the task we need."
   ]
  },
  {
   "cell_type": "code",
   "execution_count": 11,
   "metadata": {},
   "outputs": [
    {
     "data": {
      "text/plain": [
       "2"
      ]
     },
     "execution_count": 11,
     "metadata": {},
     "output_type": "execute_result"
    }
   ],
   "source": [
    "# There are built-in functions for performing mathematical operations, for example.\n",
    "# Expressions are passed as input to a function in parentheses following the name\n",
    "# of the function.\n",
    "\n",
    "# So, for example, the following is a call to the function named round and we pass the\n",
    "# expression 1.71 as input. What do you think this will produce when you run it?\n",
    "# Give it a try!\n",
    "\n",
    "round(1.71)"
   ]
  },
  {
   "cell_type": "code",
   "execution_count": 12,
   "metadata": {},
   "outputs": [
    {
     "data": {
      "text/plain": [
       "0"
      ]
     },
     "execution_count": 12,
     "metadata": {},
     "output_type": "execute_result"
    }
   ],
   "source": [
    "# Now try making other calls to this function with different input values.  Run the cell\n",
    "# each time and notice the output.  How would you describe the purpose of this function?  \n",
    "# In other words, knowing the value of the expression that is input, what does the function\n",
    "# output?\n",
    "\n",
    "# Here's a start - just enter an expression in the parentheses and run the cell:\n",
    "round(0.5)  \n",
    "\n",
    "# This rounds to 0 rather than 1?! Check out the documentation for round (from the link\n",
    "#  in a cell below) to see why this perhaps-surprising result."
   ]
  },
  {
   "cell_type": "markdown",
   "metadata": {},
   "source": [
    "By the way, if you tried to run the cell when the last line was just `round()`, you would have seen an error message. If you didn't, change that line to look like `round()` and run it now just to see an error!\n",
    "\n",
    "You'll see a lot of error messages! They can be frustrating, but try to think of them like little puzzles or like a friend trying to help who's not quite sure what to do.\n",
    "\n",
    "Read error messages from bottom to top looking for helpful information, don't worry too much about the parts you don't understand, and ask for help from the course staff and fellow students when you get stuck!\n",
    "\n",
    "With time and practice, more and more pieces of the error message will make sense and be helpful."
   ]
  },
  {
   "cell_type": "code",
   "execution_count": 13,
   "metadata": {},
   "outputs": [
    {
     "data": {
      "text/plain": [
       "9"
      ]
     },
     "execution_count": 13,
     "metadata": {},
     "output_type": "execute_result"
    }
   ],
   "source": [
    "# Now do the same for the following function named len. Note that this function expects\n",
    "# string expressions as input. How would you describe the purpose of this function?  \n",
    "\n",
    "# Again, here's a start - just enter an expression in the parentheses and run the cell:\n",
    "len(\"Lion \" + \"King\")   # purpose of len: produces the length (in letters) of a string"
   ]
  },
  {
   "cell_type": "code",
   "execution_count": 14,
   "metadata": {},
   "outputs": [
    {
     "data": {
      "text/plain": [
       "5"
      ]
     },
     "execution_count": 14,
     "metadata": {},
     "output_type": "execute_result"
    }
   ],
   "source": [
    "# Finally, do the same for the max function.  Note that this expression takes one or more\n",
    "# number expressions as input, where those expressions are separated by a comma. \n",
    "# So, for example:\n",
    "\n",
    "max(12, 14.5, 9)\n",
    "\n",
    "# Try making other calls to the max function with a different number of inputs and run the \n",
    "# cell each time. What is the purpose of this function in general?\n",
    "\n",
    "max(1, 2, 5, -3, 4.8)  # purpose of max: produce the largest of its inputs"
   ]
  },
  {
   "cell_type": "markdown",
   "metadata": {},
   "source": [
    "### _Try it yourself_\n",
    "\n",
    "Try rounding the number `53.24` to 1 decimal place. To find out how to do this, look up the documentation for the `round` function [here](https://docs.python.org/3.3/library/functions.html#round).\n",
    "\n",
    "The documentation can be pretty hard to read! Treat it like error messages: Look for the information that makes sense and helps, don't worry too much about the parts that don't make sense, and ask for help! Like error messages, more and more pieces will make sense with practice."
   ]
  },
  {
   "cell_type": "code",
   "execution_count": 15,
   "metadata": {},
   "outputs": [
    {
     "data": {
      "text/plain": [
       "53.2"
      ]
     },
     "execution_count": 15,
     "metadata": {},
     "output_type": "execute_result"
    }
   ],
   "source": [
    "# Write your expression here:\n",
    "\n",
    "round(53.24, 1)\n",
    "\n",
    "\n",
    "# Here's the start of that documentation:\n",
    "\n",
    "# round(number[, ndigits])\n",
    "#   Return the floating point value number rounded to ndigits digits after the decimal point.\n",
    "#   If ndigits is omitted, it defaults to zero. Delegates to number.__round__(ndigits).\n",
    "\n",
    "# It probably doesn't make much sense why there are square brackets around \", ndigits\" or what \"Delegates to\n",
    "# number.__round__(ndigits) means. Hopefully some parts of the rest are readable, even if they're a bit\n",
    "# strangely written!\n",
    "#\n",
    "# Expanding on this a bit, it's saying that it rounds the first input (which it calls \"number\",\n",
    "# although we don't have to call it that!). It rounds it to the nearest integer if we just give it\n",
    "# number or if we provide the second input (which it calls \"ndigits\") with the value 0. Otherwise,\n",
    "# it rounds the number to ndigits decimal places. We wanted 1 decimal place. So, we wrote:\n",
    "#\n",
    "#   round(53.24, 1)"
   ]
  },
  {
   "cell_type": "markdown",
   "metadata": {},
   "source": [
    "## Registering your UBC CPSC account\n",
    "\n",
    "We need you to register your UBC CPSC account. To do that:\n",
    "1. Log in and work through the registration process at [UBC CPSC's account registration page](https://www.cs.ubc.ca/getacct/) now.\n",
    "2. Find your \"alias\". It looks like an e-mail address where the first part is four or five characters long with alternating letters and numbers (a little like a Canadian postal code, but lowercase and shorter) and ends with `@ugrad.cs.ubc.ca`. **Write it down!**"
   ]
  },
  {
   "cell_type": "markdown",
   "metadata": {},
   "source": [
    "## Markdown Cells\n",
    "\n",
    "In addition to *code* cells, you can also have *markdown* cells.  We've used a few on this page, including this cell. Markdown allows you to do things like:\n",
    "- include titles and subtitles to be displayed in a larger, more pronounced font like the one at the top of this cell\n",
    "- use **bold face** or *italic* fonts\n",
    "- include bulleted lists\n",
    "\n",
    "Double-click in this cell to see what was actually entered to produce the formatted text that you see.  To go back to the formatted text, you can run the cell.\n",
    "\n",
    "### Exercise\n",
    "Edit the markdown cell below this one so that it includes the following:\n",
    "\n",
    "- a title named \"Summary\"\n",
    "- **your \"alias\" from when you registered your CS account in the previous part** in bold face text (and nothing else in bold)\n",
    "- at least one word in *italics*\n",
    "- a bulleted list that describes at least three things you learned in this tutorial\n",
    "- a list of any questions you have now that you've reached the end of the tutorial (optional)\n",
    "\n"
   ]
  },
  {
   "cell_type": "markdown",
   "metadata": {},
   "source": [
    "\n"
   ]
  },
  {
   "cell_type": "markdown",
   "metadata": {},
   "source": [
    "# Summary\n",
    "\n",
    "Markdown is fun to write!\n",
    "\n",
    "I learned about:\n",
    "\n",
    "+ strange rounding rules\n",
    "+ how to run a cell using keys on my keyboard\n",
    "+ this *Jupyter markdown cheatsheet* I found on the web: https://medium.com/ibm-data-science-experience/markdown-for-jupyter-notebooks-cheatsheet-386c05aeebed\n",
    "\n",
    "But, since I'm not a student, I didn't get to discover **my alias from registering my CS account and put it in bold**. You should, however!\n",
    "\n",
    "## My questions\n",
    "\n",
    "How's the class going? Please post on our discussion board! We'd love to answer questions, hear your thoughts, or just chat :)"
   ]
  }
 ],
 "metadata": {
  "kernelspec": {
   "display_name": "Python 3",
   "language": "python",
   "name": "python3"
  },
  "language_info": {
   "codemirror_mode": {
    "name": "ipython",
    "version": 3
   },
   "file_extension": ".py",
   "mimetype": "text/x-python",
   "name": "python",
   "nbconvert_exporter": "python",
   "pygments_lexer": "ipython3",
   "version": "3.7.6"
  }
 },
 "nbformat": 4,
 "nbformat_minor": 2
}
