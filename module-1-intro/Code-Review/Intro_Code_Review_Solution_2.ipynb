{
 "cells": [
  {
   "cell_type": "code",
   "execution_count": null,
   "metadata": {},
   "outputs": [],
   "source": [
    "# Given variables\n",
    "animal1 = \"ants\"\n",
    "animal2 = \"apes\"\n",
    "\n",
    "if len(animal1)==len(animal2):\n",
    "True\n",
    "\n",
    "if animal1 [0]==animal2 [0]: \n",
    "True\n",
    "else:\n",
    "False"
   ]
  }
 ],
 "metadata": {
  "kernelspec": {
   "display_name": "Python 3",
   "language": "python",
   "name": "python3"
  },
  "language_info": {
   "codemirror_mode": {
    "name": "ipython",
    "version": 3
   },
   "file_extension": ".py",
   "mimetype": "text/x-python",
   "name": "python",
   "nbconvert_exporter": "python",
   "pygments_lexer": "ipython3",
   "version": "3.6.2"
  }
 },
 "nbformat": 4,
 "nbformat_minor": 2
}
