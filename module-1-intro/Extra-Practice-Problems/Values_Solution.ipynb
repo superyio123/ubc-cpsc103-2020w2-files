{
 "cells": [
  {
   "cell_type": "code",
   "execution_count": 1,
   "metadata": {},
   "outputs": [],
   "source": [
    "def add_five(x):\n",
    "    x = x + 5\n",
    "\n",
    "def sqr(x):\n",
    "    x = x**2\n",
    "    \n",
    "## Below is a transcript of some python calls. Each time you see \"## var = ??\", fill in the ??\n",
    "## with the current value of the variable. \n",
    "\n",
    "a = 5\n",
    "b = 7\n",
    "a + b\n",
    "## a = 5\n",
    "## b = 7\n",
    "a = a + b\n",
    "b == a\n",
    "## a = 12\n",
    "## b = 7\n",
    "add_five(a)\n",
    "sqr(b)\n",
    "## a = 12\n",
    "## b = 7\n",
    "\n",
    "# reassign and sqr do not change the values of a and b.\n",
    "# In fact, they cannot change the values of a and b. Because of the way Python's evaluation rules\n",
    "# work, a call like sqr(b) in the last line of code becomes sqr(7) before we call the sqr function.\n",
    "# sqr cannot tell that the 7 it receives as an argument was b before. That information is already\n",
    "# gone before the call starts!\n",
    "\n",
    "# This means that the functions are not actually changing the values of a and b, but are changing the\n",
    "# value of the parameter, which is a variable available only inside the function.\n"
   ]
  }
 ],
 "metadata": {
  "kernelspec": {
   "display_name": "Python 3",
   "language": "python",
   "name": "python3"
  },
  "language_info": {
   "codemirror_mode": {
    "name": "ipython",
    "version": 3
   },
   "file_extension": ".py",
   "mimetype": "text/x-python",
   "name": "python",
   "nbconvert_exporter": "python",
   "pygments_lexer": "ipython3",
   "version": "3.7.3"
  }
 },
 "nbformat": 4,
 "nbformat_minor": 2
}
