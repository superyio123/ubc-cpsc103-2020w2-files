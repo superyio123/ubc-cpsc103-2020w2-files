{
 "cells": [
  {
   "cell_type": "code",
   "execution_count": null,
   "metadata": {
    "collapsed": true
   },
   "outputs": [],
   "source": [
    "\"\"\"\n",
    "Problem:\n",
    "\n",
    "Given the following string variables, write an expression that produces\n",
    "True if S1 is contained in S2, and S1 and S2 share the same last letter. \n",
    "\n",
    "\"\"\"\n",
    "\n",
    "S1 = \"car\"\n",
    "S2 = \"racecar\""
   ]
  }
 ],
 "metadata": {
  "kernelspec": {
   "display_name": "Python 3",
   "language": "python",
   "name": "python3"
  },
  "language_info": {
   "codemirror_mode": {
    "name": "ipython",
    "version": 3
   },
   "file_extension": ".py",
   "mimetype": "text/x-python",
   "name": "python",
   "nbconvert_exporter": "python",
   "pygments_lexer": "ipython3",
   "version": "3.5.1"
  }
 },
 "nbformat": 4,
 "nbformat_minor": 2
}
