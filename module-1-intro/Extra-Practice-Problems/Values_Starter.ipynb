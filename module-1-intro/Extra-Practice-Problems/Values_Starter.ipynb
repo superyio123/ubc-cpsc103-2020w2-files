{
 "cells": [
  {
   "cell_type": "code",
   "execution_count": 10,
   "metadata": {
    "collapsed": false
   },
   "outputs": [],
   "source": [
    "def add_five(x):\n",
    "    x = x + 5\n",
    "\n",
    "def sqr(x):\n",
    "    x = x**2\n",
    "    \n",
    "## Below is a transcript of some python calls. Each time you see \"## var = ??\", fill in the ??\n",
    "## with the current value of the variable. \n",
    "\n",
    "a = 5\n",
    "b = 7\n",
    "a + b\n",
    "## a = ??\n",
    "## b = ??\n",
    "a = a + b\n",
    "b == a\n",
    "## a = ??\n",
    "## b = ??\n",
    "add_five(a)\n",
    "sqr(b)\n",
    "## a = ??\n",
    "## b = ??\n",
    "\n",
    "\n"
   ]
  }
 ],
 "metadata": {
  "kernelspec": {
   "display_name": "Python 3",
   "language": "python",
   "name": "python3"
  },
  "language_info": {
   "codemirror_mode": {
    "name": "ipython",
    "version": 3
   },
   "file_extension": ".py",
   "mimetype": "text/x-python",
   "name": "python",
   "nbconvert_exporter": "python",
   "pygments_lexer": "ipython3",
   "version": "3.5.2"
  }
 },
 "nbformat": 4,
 "nbformat_minor": 2
}
