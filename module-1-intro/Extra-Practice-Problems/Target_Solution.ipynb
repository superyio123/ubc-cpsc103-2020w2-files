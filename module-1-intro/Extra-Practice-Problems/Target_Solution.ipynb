{
 "cells": [
  {
   "cell_type": "code",
   "execution_count": 1,
   "metadata": {},
   "outputs": [
    {
     "data": {
      "text/plain": [
       "<cs103.image.image.overlay object at 0x7fadb7c3ffd0>"
      ]
     },
     "execution_count": 1,
     "metadata": {},
     "output_type": "execute_result"
    },
    {
     "data": {
      "image/png": "[encoded data removed]",
      "text/plain": [
       "<Figure size 45x45 with 1 Axes>"
      ]
     },
     "metadata": {
      "needs_background": "light"
     },
     "output_type": "display_data"
    }
   ],
   "source": [
    "from cs103 import *\n",
    "\n",
    "\"\"\"\n",
    "Problem:\n",
    "\n",
    "Write an expression that draws an image of a red and white target\n",
    "(similar to the logo of a popular department store). Since your image\n",
    "will involve multiple circles, you may want to define these as variables.\n",
    "\n",
    "\"\"\"\n",
    "\n",
    "s = 10\n",
    "\n",
    "C1 = circle(s, \"solid\", \"red\")\n",
    "C2 = circle(s*2, \"solid\", \"white\")\n",
    "C3 = circle(s*3, \"solid\", \"red\")\n",
    "\n",
    "target = overlay(C1, C2, C3)\n",
    "\n",
    "target"
   ]
  }
 ],
 "metadata": {
  "kernelspec": {
   "display_name": "Python 3",
   "language": "python",
   "name": "python3"
  },
  "language_info": {
   "codemirror_mode": {
    "name": "ipython",
    "version": 3
   },
   "file_extension": ".py",
   "mimetype": "text/x-python",
   "name": "python",
   "nbconvert_exporter": "python",
   "pygments_lexer": "ipython3",
   "version": "3.6.6"
  }
 },
 "nbformat": 4,
 "nbformat_minor": 2
}
