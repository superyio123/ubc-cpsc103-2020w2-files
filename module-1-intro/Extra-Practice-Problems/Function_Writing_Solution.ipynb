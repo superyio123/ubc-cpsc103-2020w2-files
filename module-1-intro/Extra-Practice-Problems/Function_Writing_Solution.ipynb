{
 "cells": [
  {
   "cell_type": "code",
   "execution_count": 4,
   "metadata": {
    "collapsed": false
   },
   "outputs": [],
   "source": [
    "## Write a function called larger that consumes two numbers and produces the larger of the two.\n",
    "\n",
    "def larger(n1, n2):\n",
    "    return max(n1, n2)\n",
    "\n",
    "\n",
    "\n",
    "\n",
    "# alternate solution\n",
    "\n",
    "def larger2(n1, n2):\n",
    "    if n1 > n2:\n",
    "        return n1\n",
    "    else:\n",
    "        return n2\n",
    "\n",
    "\n",
    "\n"
   ]
  }
 ],
 "metadata": {
  "kernelspec": {
   "display_name": "Python 3",
   "language": "python",
   "name": "python3"
  },
  "language_info": {
   "codemirror_mode": {
    "name": "ipython",
    "version": 3
   },
   "file_extension": ".py",
   "mimetype": "text/x-python",
   "name": "python",
   "nbconvert_exporter": "python",
   "pygments_lexer": "ipython3",
   "version": "3.5.1"
  }
 },
 "nbformat": 4,
 "nbformat_minor": 2
}
