{
 "cells": [
  {
   "cell_type": "code",
   "execution_count": null,
   "metadata": {
    "collapsed": true
   },
   "outputs": [],
   "source": [
    "## PROBLEM 1: Write an expression that multiplies the numbers 3, 5 and 7.\n",
    "\n",
    "\n",
    "\n",
    "\n",
    "\n",
    "## PROBLEM 2: Write an arithmetic expression that adds 4 to 3 squared.\n",
    "\n",
    "\n",
    "\n",
    "\n",
    "\n",
    "## PROBLEM 3: Write an arithmetic expression that divides the sum of 4, 6, and 9 by 2. \n",
    "\n",
    "\n",
    "\n",
    "\n",
    "\n"
   ]
  }
 ],
 "metadata": {
  "kernelspec": {
   "display_name": "Python 3",
   "language": "python",
   "name": "python3"
  },
  "language_info": {
   "codemirror_mode": {
    "name": "ipython",
    "version": 3
   },
   "file_extension": ".py",
   "mimetype": "text/x-python",
   "name": "python",
   "nbconvert_exporter": "python",
   "pygments_lexer": "ipython3",
   "version": "3.5.1"
  }
 },
 "nbformat": 4,
 "nbformat_minor": 2
}
