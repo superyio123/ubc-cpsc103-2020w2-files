{
 "cells": [
  {
   "cell_type": "code",
   "execution_count": null,
   "metadata": {},
   "outputs": [],
   "source": [
    "from cs103 import *\n",
    "custom_init()\n",
    "\n",
    "## Create a function called tile that consumes a number and using the square, above, \n",
    "## and beside primitives outputs an image like this one (where X is a yellow \n",
    "## square and O is a blue square) where each blue and yellow square has side length n.\n",
    "\n",
    "##                                 X O\n",
    "##                                 O X\n",
    "\n",
    "def tile(n):\n",
    "    return above(beside(square(n, 'solid', 'yellow'), square(n, 'solid', 'blue')),\n",
    "                 beside(square(n, 'solid', 'blue'), square(n, 'solid', 'yellow')))\n",
    "\n",
    "# example of what the function produces\n",
    "tile(40)\n"
   ]
  }
 ],
 "metadata": {
  "kernelspec": {
   "display_name": "Python 3",
   "language": "python",
   "name": "python3"
  },
  "language_info": {
   "codemirror_mode": {
    "name": "ipython",
    "version": 3
   },
   "file_extension": ".py",
   "mimetype": "text/x-python",
   "name": "python",
   "nbconvert_exporter": "python",
   "pygments_lexer": "ipython3",
   "version": "3.6.4"
  }
 },
 "nbformat": 4,
 "nbformat_minor": 2
}
