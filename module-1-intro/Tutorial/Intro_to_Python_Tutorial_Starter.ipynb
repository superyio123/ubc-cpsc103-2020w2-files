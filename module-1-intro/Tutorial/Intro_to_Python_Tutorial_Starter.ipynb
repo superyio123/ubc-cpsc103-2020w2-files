{
 "cells": [
  {
   "cell_type": "markdown",
   "metadata": {},
   "source": [
    "#  Tutorial Questions - Intro to Python\n",
    "\n",
    "**Pre-Tutorial Work:**\n",
    "\n",
    "None this week."
   ]
  },
  {
   "cell_type": "markdown",
   "metadata": {},
   "source": [
    "## Problem 1\n",
    "\n",
    "Write a statement that finds the second character of the value stored in the variable `season` and assigns it to a new variable. Make sure to choose a meaningful name for your new variable. Your statement should still find that second character even if you change the text assigned to the variable `season` on line 2 below!"
   ]
  },
  {
   "cell_type": "code",
   "execution_count": null,
   "metadata": {},
   "outputs": [],
   "source": [
    "# Given variable\n",
    "season = \"summer\"\n",
    " \n",
    "# your solution goes here\n"
   ]
  },
  {
   "cell_type": "markdown",
   "metadata": {},
   "source": [
    "## Problem 2\n",
    "\n",
    "Write a code fragment (i.e. one or more lines of code) that calculates the average of the three ages. Your code fragment should still calculate the correct average even if you change the values assigned to the three variables `age1`, `age2`, and `age3`."
   ]
  },
  {
   "cell_type": "code",
   "execution_count": null,
   "metadata": {},
   "outputs": [],
   "source": [
    "age1 = 21\n",
    "age2 = 38\n",
    "age3 = 18\n",
    "\n",
    "# your solution goes here\n"
   ]
  },
  {
   "cell_type": "markdown",
   "metadata": {},
   "source": [
    "## Problem 3\n",
    "\n",
    "Write the step-by-step evaluation of the expression `8 >=(6+2) and 2*2 < 5`. \n",
    "\n",
    "Note that you are allowed to elide steps as seen in Example 3 in\n",
    "Section 3.2.2 of the Evaluation Rules document in the Language Module on Canvas."
   ]
  },
  {
   "cell_type": "code",
   "execution_count": null,
   "metadata": {},
   "outputs": [],
   "source": [
    "# Original expression\n",
    "8 >=(6+2) and 2*2 < 5\n",
    "\n",
    "# your solution goes here\n"
   ]
  },
  {
   "cell_type": "markdown",
   "metadata": {},
   "source": [
    "## Problem 4\n",
    "\n",
    "We want to design a code fragment that does the following: It adds 7% sales tax to a price (the price is in cents) if `add_tax` is `True`. If `add_tax` is `False`, no tax should be added. Unfortunately, the code below contains one or more errors. Debug (fix) the code fragment until it is correct and runs without errors."
   ]
  },
  {
   "cell_type": "code",
   "execution_count": null,
   "metadata": {},
   "outputs": [],
   "source": [
    "price = 10000\n",
    "add_tax = True\n",
    "\n",
    "if add_tax\n",
    "    price = price * .07\n",
    "    \n",
    "price"
   ]
  },
  {
   "cell_type": "markdown",
   "metadata": {},
   "source": [
    "## Problem 5\n",
    "\n",
    "Write a function that takes a price, adds 7% tax, and returns the total including the tax. Solving problem 4 will help with this problem, but this is a bit different from problem 4. (For example, we are creating a function not a code fragment, and we add the tax no matter what, not depending on `add_tax`.)\n",
    "\n",
    "To check that your function works, you'll want to call it with some different inputs and see what the results are!"
   ]
  },
  {
   "cell_type": "code",
   "execution_count": null,
   "metadata": {},
   "outputs": [],
   "source": [
    "# your solution goes here"
   ]
  },
  {
   "cell_type": "code",
   "execution_count": null,
   "metadata": {},
   "outputs": [],
   "source": [
    "# make one call to your function here"
   ]
  },
  {
   "cell_type": "code",
   "execution_count": null,
   "metadata": {},
   "outputs": [],
   "source": [
    "# make another call to your function here\n",
    "# do both calls work correctly when you run them?"
   ]
  },
  {
   "cell_type": "markdown",
   "metadata": {},
   "source": [
    "## Problem 6\n",
    "\n",
    "Now you want a function that will take a price (perhaps from an activity for which you'll share the cost with friends), adds tax, and then splits the bill over some number of people.\n",
    "\n",
    "We've got the function started for you, but you must complete it. Your function *must* call the function you defined in problem 5. Again, to check that `split_cost` works, you'll want to call it with a few different inputs and see what the results are.\n",
    "\n",
    "By the way, there's no need to define that function from problem 5 again. As long as you've run the cell above that defines the function, you can call the function in the cell below."
   ]
  },
  {
   "cell_type": "code",
   "execution_count": null,
   "metadata": {},
   "outputs": [],
   "source": [
    "# your solution (the function) goes here\n",
    "def split_cost(num_people_to_split, cost):\n",
    "    # Try this in three steps.\n",
    "    \n",
    "    # 1) Figure out the total cost, with tax. CALL the function you wrote above to do this.\n",
    "    #    You do NOT need to define the function again to do that. Now that you've run your\n",
    "    #    cell above, you can call that function just like you call the round function!\n",
    "    #    You'll need to start with the base cost. You HAVE that already stored in one of the\n",
    "    #    parameters. (What if someone calls this function with a different value? No problem!\n",
    "    #    The parameter always starts with the argument value the function was called with!)\n",
    "    #    Store the result in a well-named variable.\n",
    "    \n",
    "    # 2) Figure out the amount each person owes. You have the total cost in the variable from\n",
    "    #    step 1. You have the number of people to split the cost among from one of the parameters.\n",
    "    #    Store your result in another well-named variable.\n",
    "    \n",
    "    # 3) Return the result. The return statement on the next line is wrong. You'll want to fix it! :)\n",
    "    return 0\n",
    "\n",
    "# P.S. You could write this function all as a single return line. There's no prize for shortest\n",
    "# code, however. Write it in a way that you and others will find it easiest to read."
   ]
  },
  {
   "cell_type": "code",
   "execution_count": null,
   "metadata": {},
   "outputs": [],
   "source": [
    "# your solution (one call to the the function) goes here"
   ]
  },
  {
   "cell_type": "code",
   "execution_count": null,
   "metadata": {},
   "outputs": [],
   "source": [
    "# your solution (a second call to the the function) goes here"
   ]
  },
  {
   "cell_type": "code",
   "execution_count": null,
   "metadata": {},
   "outputs": [],
   "source": [
    "# your solution (a third call to the the function) goes here"
   ]
  },
  {
   "cell_type": "code",
   "execution_count": null,
   "metadata": {
    "deletable": false,
    "editable": false
   },
   "outputs": [],
   "source": [
    "# NOTE: You should not be able to edit this cell. Just run it to start the process of submiting your code.\n",
    "from cs103 import submit\n",
    "\n",
    "COURSE = 58946\n",
    "ASSIGNMENT = 750749\n",
    "\n",
    "submit(COURSE, ASSIGNMENT)\n",
    "\n",
    "# If something has gone wrong and you still are not able to submit by running the code above, SUBMIT ANYWAY \n",
    "# by downloading your files and uploading them to Canvas. You can learn how on the page \n",
    "# \"How to submit your Jupyter notebook\" on our Canvas site."
   ]
  }
 ],
 "metadata": {
  "kernelspec": {
   "display_name": "Python 3",
   "language": "python",
   "name": "python3"
  },
  "language_info": {
   "codemirror_mode": {
    "name": "ipython",
    "version": 3
   },
   "file_extension": ".py",
   "mimetype": "text/x-python",
   "name": "python",
   "nbconvert_exporter": "python",
   "pygments_lexer": "ipython3",
   "version": "3.8.0"
  }
 },
 "nbformat": 4,
 "nbformat_minor": 2
}
