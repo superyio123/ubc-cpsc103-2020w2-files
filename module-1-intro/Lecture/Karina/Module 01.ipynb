{
 "cells": [
  {
   "cell_type": "code",
   "execution_count": 11,
   "metadata": {},
   "outputs": [],
   "source": [
    "from cs103 import * # needed (once per notebook) to enable incredible cs103 powers!!"
   ]
  },
  {
   "cell_type": "markdown",
   "metadata": {},
   "source": [
    "***"
   ]
  },
  {
   "cell_type": "markdown",
   "metadata": {},
   "source": [
    "# Drawing Trees\n",
    "\n",
    "Let's draw a tree with code. The `rectangle`, `triangle`, and `above` functions should help."
   ]
  },
  {
   "cell_type": "code",
   "execution_count": 17,
   "metadata": {},
   "outputs": [
    {
     "data": {
      "text/plain": [
       "<cs103.image.image.Above object at 0x7f28309d9580>"
      ]
     },
     "execution_count": 17,
     "metadata": {},
     "output_type": "execute_result"
    },
    {
     "data": {
      "image/png": "[encoded data removed]",
      "text/plain": [
       "<Figure size 45x82.5 with 1 Axes>"
      ]
     },
     "metadata": {
      "needs_background": "light"
     },
     "output_type": "display_data"
    }
   ],
   "source": [
    "# Draw the tree here\n",
    "\n"
   ]
  },
  {
   "cell_type": "markdown",
   "metadata": {},
   "source": [
    "Next, let's draw *two* trees, side-by-side.\n",
    "\n",
    "The `beside` function can help. See what you can do with that first!"
   ]
  },
  {
   "cell_type": "code",
   "execution_count": 3,
   "metadata": {},
   "outputs": [],
   "source": [
    "# Draw two trees, side-by-side.\n",
    "\n"
   ]
  },
  {
   "cell_type": "markdown",
   "metadata": {},
   "source": [
    "But... repeating the code seems messy. What if we decide to make\n",
    "them taller? We have to change both of them! Anyway, this code\n",
    "is getting a bit hard to read.\n",
    "\n",
    "A *variable* is a named \"slot\" where our program can remember\n",
    "one value. We choose the name. We can put a value in. By just\n",
    "writing the name where we want a value, we get the value out.\n",
    "We can even put a new value in... but it kicks the old one out!\n",
    "\n",
    "Let's put one tree image *value* into a variable and then use it when we call `beside`."
   ]
  },
  {
   "cell_type": "code",
   "execution_count": 4,
   "metadata": {},
   "outputs": [],
   "source": [
    "# Draw two trees side-by-side, but this time use a variable.\n",
    "\n"
   ]
  },
  {
   "cell_type": "markdown",
   "metadata": {},
   "source": [
    "Now, let's draw 10 trees side-by-side."
   ]
  },
  {
   "cell_type": "code",
   "execution_count": 5,
   "metadata": {
    "scrolled": true
   },
   "outputs": [],
   "source": [
    "# Draw 10 trees, side-by-side.\n",
    "\n"
   ]
  },
  {
   "cell_type": "markdown",
   "metadata": {},
   "source": [
    "*******"
   ]
  },
  {
   "cell_type": "markdown",
   "metadata": {},
   "source": [
    "# Checking the Sign"
   ]
  },
  {
   "cell_type": "code",
   "execution_count": null,
   "metadata": {},
   "outputs": [],
   "source": []
  },
  {
   "cell_type": "markdown",
   "metadata": {},
   "source": [
    "___"
   ]
  },
  {
   "cell_type": "markdown",
   "metadata": {},
   "source": [
    "# Repeating a String\n",
    "\n",
    "We'll spend just a few minutes with functions. Much more coming next week (and every week after!)."
   ]
  },
  {
   "cell_type": "code",
   "execution_count": 6,
   "metadata": {},
   "outputs": [],
   "source": [
    "# This works correctly.. but doesn't follow our rules for naming.\n",
    "def RepeatIt(thing):\n",
    "    return thing+thing\n",
    "\n",
    "# What's wrong here?\n",
    "def repeat_it(string):\n",
    "    string*2\n",
    "      \n",
    "# What's wrong here?\n",
    "def repeat_string_once2(string):\n",
    "    return 'string' + 'string'\n",
    "\n",
    "# This is great!\n",
    "def repeat_string_once(string):\n",
    "    return string*2\n",
    "\n",
    "# This is ALSO great!\n",
    "def repeat(s):\n",
    "    new_s = s + s\n",
    "    return new_s"
   ]
  },
  {
   "cell_type": "code",
   "execution_count": 2,
   "metadata": {},
   "outputs": [],
   "source": [
    "# Let's try CALLING those functions!\n",
    "\n"
   ]
  }
 ],
 "metadata": {
  "kernelspec": {
   "display_name": "Python 3",
   "language": "python",
   "name": "python3"
  },
  "language_info": {
   "codemirror_mode": {
    "name": "ipython",
    "version": 3
   },
   "file_extension": ".py",
   "mimetype": "text/x-python",
   "name": "python",
   "nbconvert_exporter": "python",
   "pygments_lexer": "ipython3",
   "version": "3.8.6"
  }
 },
 "nbformat": 4,
 "nbformat_minor": 2
}
